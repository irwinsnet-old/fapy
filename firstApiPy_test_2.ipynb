{
 "cells": [
  {
   "cell_type": "markdown",
   "metadata": {},
   "source": [
    "## Imports"
   ]
  },
  {
   "cell_type": "code",
   "execution_count": 1,
   "metadata": {
    "collapsed": true
   },
   "outputs": [],
   "source": [
    "# Imports for telling Python where to find IRScout Python modules\n",
    "import sys\n",
    "import os\n",
    "import re\n",
    "import base64\n",
    "import json\n",
    "sys.path.append('.')\n",
    "\n",
    "import pandas as pd\n",
    "import pandas.io.json as pj\n",
    "\n",
    "import fapy.api as api\n",
    "\n",
    "username = \"sirwin\"\n",
    "key = \"1460BE75-DE02-4E4C-AEBF-1C0B58404D5C\""
   ]
  },
  {
   "cell_type": "code",
   "execution_count": 2,
   "metadata": {
    "collapsed": true
   },
   "outputs": [],
   "source": [
    "sn = api.Session(username, key, season='2017')"
   ]
  },
  {
   "cell_type": "code",
   "execution_count": 3,
   "metadata": {},
   "outputs": [
    {
     "data": {
      "text/plain": [
       "'Fri, 07 Oct 2016 16:00:00 GMT'"
      ]
     },
     "execution_count": 3,
     "metadata": {},
     "output_type": "execute_result"
    }
   ],
   "source": [
    "dist = api.get_districts(sn)\n",
    "dist.attr[\"Last-Modified\"]"
   ]
  },
  {
   "cell_type": "code",
   "execution_count": 4,
   "metadata": {
    "collapsed": true
   },
   "outputs": [],
   "source": [
    "import fapy.server as server"
   ]
  },
  {
   "cell_type": "code",
   "execution_count": 5,
   "metadata": {},
   "outputs": [
    {
     "data": {
      "text/plain": [
       "'Fri, 07 Oct 2016 16:00:01 GMT'"
      ]
     },
     "execution_count": 5,
     "metadata": {},
     "output_type": "execute_result"
    }
   ],
   "source": [
    "lm = server.httpdate_addsec(dist.attr[\"Last-Modified\"], True)\n",
    "lm"
   ]
  },
  {
   "cell_type": "code",
   "execution_count": 6,
   "metadata": {},
   "outputs": [],
   "source": [
    "dist2 = api.get_districts(sn, mod_since=lm)"
   ]
  },
  {
   "cell_type": "code",
   "execution_count": 7,
   "metadata": {},
   "outputs": [
    {
     "data": {
      "text/html": [
       "<div>\n",
       "<style>\n",
       "    .dataframe thead tr:only-child th {\n",
       "        text-align: right;\n",
       "    }\n",
       "\n",
       "    .dataframe thead th {\n",
       "        text-align: left;\n",
       "    }\n",
       "\n",
       "    .dataframe tbody tr th {\n",
       "        vertical-align: top;\n",
       "    }\n",
       "</style>\n",
       "<table border=\"1\" class=\"dataframe\">\n",
       "  <thead>\n",
       "    <tr style=\"text-align: right;\">\n",
       "      <th></th>\n",
       "      <th>If-Modified-Since</th>\n",
       "    </tr>\n",
       "  </thead>\n",
       "  <tbody>\n",
       "    <tr>\n",
       "      <th>1</th>\n",
       "      <td>Fri, 07 Oct 2016 16:00:01 GMT</td>\n",
       "    </tr>\n",
       "  </tbody>\n",
       "</table>\n",
       "</div>"
      ],
      "text/plain": [
       "               If-Modified-Since\n",
       "1  Fri, 07 Oct 2016 16:00:01 GMT"
      ]
     },
     "execution_count": 7,
     "metadata": {},
     "output_type": "execute_result"
    }
   ],
   "source": [
    "dist2"
   ]
  },
  {
   "cell_type": "code",
   "execution_count": 23,
   "metadata": {},
   "outputs": [
    {
     "data": {
      "text/plain": [
       "'Fri, 07 Oct 2016 16:00:01 GMT'"
      ]
     },
     "execution_count": 23,
     "metadata": {},
     "output_type": "execute_result"
    }
   ],
   "source": [
    "dist2[\"If-Modified-Since\"][1]"
   ]
  },
  {
   "cell_type": "code",
   "execution_count": 9,
   "metadata": {
    "scrolled": true
   },
   "outputs": [
    {
     "data": {
      "text/plain": [
       "{'code': 304,\n",
       " 'frame_type': 'districts',\n",
       " 'local_data': False,\n",
       " 'local_time': None,\n",
       " 'mod_since': 'Fri, 07 Oct 2016 16:00:01 GMT',\n",
       " 'only_mod_since': None,\n",
       " 'requested_url': 'https://frc-api.firstinspires.org/v2.0/2017/districts',\n",
       " 'text': None,\n",
       " 'text_format': 'json',\n",
       " 'time_downloaded': 'Fri, 15 Sep 2017 05:36:19',\n",
       " 'url': 'https://frc-api.firstinspires.org/v2.0/2017/districts'}"
      ]
     },
     "execution_count": 9,
     "metadata": {},
     "output_type": "execute_result"
    }
   ],
   "source": [
    "dist2.attr"
   ]
  },
  {
   "cell_type": "code",
   "execution_count": 10,
   "metadata": {
    "collapsed": true
   },
   "outputs": [],
   "source": [
    "season = api.get_season(sn)"
   ]
  },
  {
   "cell_type": "code",
   "execution_count": 11,
   "metadata": {},
   "outputs": [
    {
     "data": {
      "text/html": [
       "<div>\n",
       "<style>\n",
       "    .dataframe thead tr:only-child th {\n",
       "        text-align: right;\n",
       "    }\n",
       "\n",
       "    .dataframe thead th {\n",
       "        text-align: left;\n",
       "    }\n",
       "\n",
       "    .dataframe tbody tr th {\n",
       "        vertical-align: top;\n",
       "    }\n",
       "</style>\n",
       "<table border=\"1\" class=\"dataframe\">\n",
       "  <thead>\n",
       "    <tr style=\"text-align: right;\">\n",
       "      <th></th>\n",
       "      <th>location</th>\n",
       "      <th>name</th>\n",
       "      <th>startDate</th>\n",
       "      <th>eventCount</th>\n",
       "      <th>gameName</th>\n",
       "      <th>kickoff</th>\n",
       "      <th>rookieStart</th>\n",
       "      <th>teamCount</th>\n",
       "    </tr>\n",
       "  </thead>\n",
       "  <tbody>\n",
       "    <tr>\n",
       "      <th>0</th>\n",
       "      <td>Houston, TX USA</td>\n",
       "      <td>FIRST Championship - Houston</td>\n",
       "      <td>2017-04-19T00:00:00</td>\n",
       "      <td>178</td>\n",
       "      <td>FIRST STEAMWORKS</td>\n",
       "      <td>2017-01-07T14:00:00Z</td>\n",
       "      <td>6300</td>\n",
       "      <td>3372</td>\n",
       "    </tr>\n",
       "    <tr>\n",
       "      <th>1</th>\n",
       "      <td>St. Louis, MO USA</td>\n",
       "      <td>FIRST Championship - St. Louis</td>\n",
       "      <td>2017-04-26T00:00:00</td>\n",
       "      <td>178</td>\n",
       "      <td>FIRST STEAMWORKS</td>\n",
       "      <td>2017-01-07T14:00:00Z</td>\n",
       "      <td>6300</td>\n",
       "      <td>3372</td>\n",
       "    </tr>\n",
       "  </tbody>\n",
       "</table>\n",
       "</div>"
      ],
      "text/plain": [
       "            location                            name            startDate  \\\n",
       "0    Houston, TX USA    FIRST Championship - Houston  2017-04-19T00:00:00   \n",
       "1  St. Louis, MO USA  FIRST Championship - St. Louis  2017-04-26T00:00:00   \n",
       "\n",
       "   eventCount          gameName               kickoff  rookieStart  teamCount  \n",
       "0         178  FIRST STEAMWORKS  2017-01-07T14:00:00Z         6300       3372  \n",
       "1         178  FIRST STEAMWORKS  2017-01-07T14:00:00Z         6300       3372  "
      ]
     },
     "execution_count": 11,
     "metadata": {},
     "output_type": "execute_result"
    }
   ],
   "source": [
    "season"
   ]
  },
  {
   "cell_type": "code",
   "execution_count": 12,
   "metadata": {},
   "outputs": [
    {
     "data": {
      "text/plain": [
       "{'Cache-Control': 'public, max-age=300',\n",
       " 'Connection': 'close',\n",
       " 'Content-Length': '348',\n",
       " 'Content-Type': 'application/json; charset=utf-8',\n",
       " 'Date': 'Fri, 15 Sep 2017 12:37:39 GMT',\n",
       " 'Last-Modified': 'Fri, 08 Sep 2017 18:51:06 GMT',\n",
       " 'Server': 'Microsoft-HTTPAPI/2.0',\n",
       " 'code': 200,\n",
       " 'frame_type': 'season',\n",
       " 'local_data': False,\n",
       " 'local_time': None,\n",
       " 'mod_since': None,\n",
       " 'only_mod_since': None,\n",
       " 'requested_url': 'https://frc-api.firstinspires.org/v2.0/2017',\n",
       " 'text': '{\"eventCount\":178,\"gameName\":\"FIRST STEAMWORKS\",\"kickoff\":\"2017-01-07T14:00:00Z\",\"rookieStart\":6300,\"teamCount\":3372,\"FRCChampionships\":[{\"name\":\"FIRST Championship - Houston\",\"startDate\":\"2017-04-19T00:00:00\",\"location\":\"Houston, TX USA\"},{\"name\":\"FIRST Championship - St. Louis\",\"startDate\":\"2017-04-26T00:00:00\",\"location\":\"St. Louis, MO USA\"}]}',\n",
       " 'text_format': 'json',\n",
       " 'time_downloaded': 'Fri, 15 Sep 2017 05:37:38',\n",
       " 'url': 'https://frc-api.firstinspires.org/v2.0/2017'}"
      ]
     },
     "execution_count": 12,
     "metadata": {},
     "output_type": "execute_result"
    }
   ],
   "source": [
    "season.attr"
   ]
  },
  {
   "cell_type": "code",
   "execution_count": 13,
   "metadata": {},
   "outputs": [
    {
     "data": {
      "text/plain": [
       "'Fri, 08 Sep 2017 18:51:07 GMT'"
      ]
     },
     "execution_count": 13,
     "metadata": {},
     "output_type": "execute_result"
    }
   ],
   "source": [
    "lms = server.httpdate_addsec(season.attr[\"Last-Modified\"])\n",
    "lms"
   ]
  },
  {
   "cell_type": "code",
   "execution_count": 18,
   "metadata": {
    "collapsed": true
   },
   "outputs": [],
   "source": [
    "seasons = api.get_season(sn, only_mod_since='Fri, 09 Sep 2017 18:51:07 GMT')"
   ]
  },
  {
   "cell_type": "code",
   "execution_count": 19,
   "metadata": {},
   "outputs": [
    {
     "data": {
      "text/html": [
       "<div>\n",
       "<style>\n",
       "    .dataframe thead tr:only-child th {\n",
       "        text-align: right;\n",
       "    }\n",
       "\n",
       "    .dataframe thead th {\n",
       "        text-align: left;\n",
       "    }\n",
       "\n",
       "    .dataframe tbody tr th {\n",
       "        vertical-align: top;\n",
       "    }\n",
       "</style>\n",
       "<table border=\"1\" class=\"dataframe\">\n",
       "  <thead>\n",
       "    <tr style=\"text-align: right;\">\n",
       "      <th></th>\n",
       "      <th>location</th>\n",
       "      <th>name</th>\n",
       "      <th>startDate</th>\n",
       "      <th>eventCount</th>\n",
       "      <th>gameName</th>\n",
       "      <th>kickoff</th>\n",
       "      <th>rookieStart</th>\n",
       "      <th>teamCount</th>\n",
       "    </tr>\n",
       "  </thead>\n",
       "  <tbody>\n",
       "    <tr>\n",
       "      <th>0</th>\n",
       "      <td>Houston, TX USA</td>\n",
       "      <td>FIRST Championship - Houston</td>\n",
       "      <td>2017-04-19T00:00:00</td>\n",
       "      <td>178</td>\n",
       "      <td>FIRST STEAMWORKS</td>\n",
       "      <td>2017-01-07T14:00:00Z</td>\n",
       "      <td>6300</td>\n",
       "      <td>3372</td>\n",
       "    </tr>\n",
       "    <tr>\n",
       "      <th>1</th>\n",
       "      <td>St. Louis, MO USA</td>\n",
       "      <td>FIRST Championship - St. Louis</td>\n",
       "      <td>2017-04-26T00:00:00</td>\n",
       "      <td>178</td>\n",
       "      <td>FIRST STEAMWORKS</td>\n",
       "      <td>2017-01-07T14:00:00Z</td>\n",
       "      <td>6300</td>\n",
       "      <td>3372</td>\n",
       "    </tr>\n",
       "  </tbody>\n",
       "</table>\n",
       "</div>"
      ],
      "text/plain": [
       "            location                            name            startDate  \\\n",
       "0    Houston, TX USA    FIRST Championship - Houston  2017-04-19T00:00:00   \n",
       "1  St. Louis, MO USA  FIRST Championship - St. Louis  2017-04-26T00:00:00   \n",
       "\n",
       "   eventCount          gameName               kickoff  rookieStart  teamCount  \n",
       "0         178  FIRST STEAMWORKS  2017-01-07T14:00:00Z         6300       3372  \n",
       "1         178  FIRST STEAMWORKS  2017-01-07T14:00:00Z         6300       3372  "
      ]
     },
     "execution_count": 19,
     "metadata": {},
     "output_type": "execute_result"
    }
   ],
   "source": [
    "seasons"
   ]
  },
  {
   "cell_type": "code",
   "execution_count": null,
   "metadata": {
    "collapsed": true
   },
   "outputs": [],
   "source": [
    "districts = http.getDistricts(sn)\n",
    "districts"
   ]
  },
  {
   "cell_type": "code",
   "execution_count": null,
   "metadata": {
    "collapsed": true
   },
   "outputs": [],
   "source": [
    "districts[\"text\"]"
   ]
  },
  {
   "cell_type": "code",
   "execution_count": null,
   "metadata": {
    "collapsed": true
   },
   "outputs": [],
   "source": [
    "teams= http.getTeams(sn, district = \"PNW\")\n",
    "teams"
   ]
  },
  {
   "cell_type": "code",
   "execution_count": null,
   "metadata": {
    "collapsed": true
   },
   "outputs": [],
   "source": [
    "teams[\"teamNumber\"].iloc[0]"
   ]
  },
  {
   "cell_type": "code",
   "execution_count": null,
   "metadata": {
    "collapsed": true
   },
   "outputs": [],
   "source": [
    "events = http.getEvents(sn, district = \"PNW\")\n",
    "events"
   ]
  },
  {
   "cell_type": "code",
   "execution_count": null,
   "metadata": {
    "collapsed": true
   },
   "outputs": [],
   "source": [
    "events.attr[\"text\"]"
   ]
  },
  {
   "cell_type": "code",
   "execution_count": null,
   "metadata": {
    "collapsed": true
   },
   "outputs": [],
   "source": [
    "status = http.getStatus(sn)\n",
    "status"
   ]
  },
  {
   "cell_type": "markdown",
   "metadata": {},
   "source": [
    "## Local Data"
   ]
  },
  {
   "cell_type": "code",
   "execution_count": null,
   "metadata": {
    "collapsed": true
   },
   "outputs": [],
   "source": [
    "snl = fc.Session(auth.username, \"key\", data_format = \"json\")"
   ]
  },
  {
   "cell_type": "code",
   "execution_count": null,
   "metadata": {
    "collapsed": true
   },
   "outputs": [],
   "source": [
    "res_l = get.season(snl)\n",
    "res_l"
   ]
  },
  {
   "cell_type": "markdown",
   "metadata": {},
   "source": [
    "## Time stuff"
   ]
  },
  {
   "cell_type": "code",
   "execution_count": null,
   "metadata": {
    "collapsed": true
   },
   "outputs": [],
   "source": [
    "import time\n",
    "time.tzname"
   ]
  },
  {
   "cell_type": "markdown",
   "metadata": {},
   "source": [
    "## Other Stuff"
   ]
  },
  {
   "cell_type": "code",
   "execution_count": null,
   "metadata": {
    "collapsed": true
   },
   "outputs": [],
   "source": [
    "import re"
   ]
  },
  {
   "cell_type": "code",
   "execution_count": null,
   "metadata": {
    "collapsed": true
   },
   "outputs": [],
   "source": [
    "cmd_ptn = r\"/v2\\.0/\\d{4}/(\\w+)(?:[/?]|$)\"\n",
    "url = 'https://frc-api.firstinspires.org/v2.0/2017/teams?districtCode=PNW&page=3'\n",
    "url_season = 'https://frc-api.firstinspires.org/v2.0/2017'\n",
    "url_status = 'https://frc-api.firstinspires.org/v2.0'\n",
    "season_ptn = r\"/v2\\.0/\\d{4}$\"\n",
    "status_ptn = r\"/v2\\.0$\""
   ]
  },
  {
   "cell_type": "code",
   "execution_count": null,
   "metadata": {
    "collapsed": true
   },
   "outputs": [],
   "source": [
    "mtch = re.search(status_ptn, url_season)"
   ]
  },
  {
   "cell_type": "code",
   "execution_count": null,
   "metadata": {
    "collapsed": true
   },
   "outputs": [],
   "source": [
    "mtch.group()"
   ]
  },
  {
   "cell_type": "code",
   "execution_count": null,
   "metadata": {
    "collapsed": true
   },
   "outputs": [],
   "source": [
    "status.attr[\"url\"]"
   ]
  },
  {
   "cell_type": "code",
   "execution_count": null,
   "metadata": {
    "collapsed": true
   },
   "outputs": [],
   "source": [
    "fi._get_local_data(sn, url)"
   ]
  },
  {
   "cell_type": "code",
   "execution_count": null,
   "metadata": {
    "collapsed": true
   },
   "outputs": [],
   "source": []
  }
 ],
 "metadata": {
  "kernelspec": {
   "display_name": "Python 3",
   "language": "python",
   "name": "python3"
  },
  "language_info": {
   "codemirror_mode": {
    "name": "ipython",
    "version": 3
   },
   "file_extension": ".py",
   "mimetype": "text/x-python",
   "name": "python",
   "nbconvert_exporter": "python",
   "pygments_lexer": "ipython3",
   "version": "3.6.2"
  }
 },
 "nbformat": 4,
 "nbformat_minor": 1
}
