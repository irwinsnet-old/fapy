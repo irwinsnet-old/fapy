{
 "cells": [
  {
   "cell_type": "markdown",
   "metadata": {},
   "source": [
    "## Imports"
   ]
  },
  {
   "cell_type": "code",
   "execution_count": 1,
   "metadata": {
    "collapsed": true
   },
   "outputs": [],
   "source": [
    "# Imports for telling Python where to find IRScout Python modules\n",
    "import sys\n",
    "import os\n",
    "import re\n",
    "import base64\n",
    "import json\n",
    "sys.path.append('.')\n",
    "\n",
    "import pandas as pd\n",
    "import pandas.io.json as pj\n",
    "\n",
    "import fapy.api as api\n",
    "\n",
    "username = \"sirwin\"\n",
    "key = \"1460BE75-DE02-4E4C-AEBF-1C0B58404D5C\""
   ]
  },
  {
   "cell_type": "code",
   "execution_count": 2,
   "metadata": {
    "collapsed": true
   },
   "outputs": [],
   "source": [
    "sn = api.Session(username, key, season='2017', source='local')"
   ]
  },
  {
   "cell_type": "code",
   "execution_count": 3,
   "metadata": {},
   "outputs": [
    {
     "data": {
      "text/plain": [
       "{'Cache-Control': 'public, max-age=300',\n",
       " 'Connection': 'close',\n",
       " 'Content-Length': '348',\n",
       " 'Content-Type': 'application/json; charset=utf-8',\n",
       " 'Date': 'Mon, 11 Sep 2017 13:25:02 GMT',\n",
       " 'Last-Modified': 'Fri, 08 Sep 2017 18:51:06 GMT',\n",
       " 'Server': 'Microsoft-HTTPAPI/2.0',\n",
       " 'code': 200,\n",
       " 'frame_type': 'season',\n",
       " 'local_data': True,\n",
       " 'local_time': 'Mon, 11 Sep 2017 06:27:21',\n",
       " 'mod_since': None,\n",
       " 'only_mod_since': None,\n",
       " 'requested_url': 'https://frc-api.firstinspires.org/v2.0/2017',\n",
       " 'text': '{\"eventCount\":178,\"gameName\":\"FIRST STEAMWORKS\",\"kickoff\":\"2017-01-07T14:00:00Z\",\"rookieStart\":6300,\"teamCount\":3372,\"FRCChampionships\":[{\"name\":\"FIRST Championship - Houston\",\"startDate\":\"2017-04-19T00:00:00\",\"location\":\"Houston, TX USA\"},{\"name\":\"FIRST Championship - St. Louis\",\"startDate\":\"2017-04-26T00:00:00\",\"location\":\"St. Louis, MO USA\"}]}',\n",
       " 'text_format': 'json',\n",
       " 'time_downloaded': 'Mon, 11 Sep 2017 06:25:03',\n",
       " 'url': 'https://frc-api.firstinspires.org/v2.0/2017'}"
      ]
     },
     "execution_count": 3,
     "metadata": {},
     "output_type": "execute_result"
    }
   ],
   "source": [
    "season = api.get_season(sn)\n",
    "season.attr"
   ]
  },
  {
   "cell_type": "code",
   "execution_count": 4,
   "metadata": {},
   "outputs": [
    {
     "data": {
      "text/plain": [
       "'https://frc-api.firstinspires.org/v2.0/2017/schedule/TURING/qual/hybrid'"
      ]
     },
     "execution_count": 4,
     "metadata": {},
     "output_type": "execute_result"
    }
   ],
   "source": [
    "hybrid.attr[\"url\"]"
   ]
  },
  {
   "cell_type": "code",
   "execution_count": null,
   "metadata": {
    "collapsed": true
   },
   "outputs": [],
   "source": [
    "sched.shape"
   ]
  },
  {
   "cell_type": "code",
   "execution_count": null,
   "metadata": {
    "collapsed": true
   },
   "outputs": [],
   "source": []
  },
  {
   "cell_type": "code",
   "execution_count": null,
   "metadata": {
    "collapsed": true,
    "scrolled": true
   },
   "outputs": [],
   "source": [
    "'text': '{\"Schedule\":[{\"description\":\"Qualification 1 (B)\",\"field\":\"Primary\",\"tournamentLevel\":\"Qualification\",\"startTime\":\"2016-04-07T13:30:00\",\"matchNumber\":1,\"Teams\":[{\"teamNumber\":1318,\"station\":\"Red1\",\"surrogate\":false},{\"teamNumber\":2907,\"station\":\"Red2\",\"surrogate\":false},{\"teamNumber\":2944,\"station\":\"Red3\",\"surrogate\":false},{\"teamNumber\":4915,\"station\":\"Blue1\",\"surrogate\":false},{\"teamNumber\":3674,\"station\":\"Blue2\",\"surrogate\":false},{\"teamNumber\":4125,\"station\":\"Blue3\",\"surrogate\":false}]},{\"description\":\"Qualification 2 (B)\",\"field\":\"Primary\",\"tournamentLevel\":\"Qualification\",\"startTime\":\"2016-04-07T13:37:00\",\"matchNumber\":2,\"Teams\":[{\"teamNumber\":1595,\"station\":\"Red1\",\"surrogate\":false},{\"teamNumber\":1425,\"station\":\"Red2\",\"surrogate\":false},{\"teamNumber\":2147,\"station\":\"Red3\",\"surrogate\":false},{\"teamNumber\":2374,\"station\":\"Blue1\",\"surrogate\":false},{\"teamNumber\":2557,\"station\":\"Blue2\",\"surrogate\":false},{\"teamNumber\":5920,\"station\":\"Blue3\",\"surrogate\":false}]},{\"description\":\"Qualification 3 (B)\",\"field\":\"Primary\",\"tournamentLevel\":\"Qualification\",\"startTime\":\"2016-04-07T13:44:00\",\"matchNumber\":3,\"Teams\":[{\"teamNumber\":1983,\"station\":\"Red1\",\"surrogate\":false},{\"teamNumber\":2930,\"station\":\"Red2\",\"surrogate\":false},{\"teamNumber\":4469,\"station\":\"Red3\",\"surrogate\":false},{\"teamNumber\":5942,\"station\":\"Blue1\",\"surrogate\":false},{\"teamNumber\":5827,\"station\":\"Blue2\",\"surrogate\":false},{\"teamNumber\":2990,\"station\":\"Blue3\",\"surrogate\":false}]},{\"description\":\"Qualification 4 (B)\",\"field\":\"Primary\",\"tournamentLevel\":\"Qualification\",\"startTime\":\"2016-04-07T13:51:00\",\"matchNumber\":4,\"Teams\":[{\"teamNumber\":3238,\"station\":\"Red1\",\"surrogate\":false},{\"teamNumber\":5588,\"station\":\"Red2\",\"surrogate\":false},{\"teamNumber\":2635,\"station\":\"Red3\",\"surrogate\":false},{\"teamNumber\":4488,\"station\":\"Blue1\",\"surrogate\":false},{\"teamNumber\":1540,\"station\":\"Blue2\",\"surrogate\":false},{\"teamNumber\":2149,\"station\":\"Blue3\",\"surrogate\":false}]},{\"description\":\"Qualification 5 (B)\",\"field\":\"Primary\",\"tournamentLevel\":\"Qualification\",\"startTime\":\"2016-04-07T13:58:00\",\"matchNumber\":5,\"Teams\":[{\"teamNumber\":4980,\"station\":\"Red1\",\"surrogate\":false},{\"teamNumber\":3711,\"station\":\"Red2\",\"surrogate\":false},{\"teamNumber\":3223,\"station\":\"Red3\",\"surrogate\":false},{\"teamNumber\":3574,\"station\":\"Blue1\",\"surrogate\":false},{\"teamNumber\":1258,\"station\":\"Blue2\",\"surrogate\":false},{\"teamNumber\":3786,\"station\":\"Blue3\",\"surrogate\":false}]},{\"description\":\"Qualification 6 (B)\",\"field\":\"Primary\",\"tournamentLevel\":\"Qualification\",\"startTime\":\"2016-04-07T14:05:00\",\"matchNumber\":6,\"Teams\":[{\"teamNumber\":4450,\"station\":\"Red1\",\"surrogate\":false},{\"teamNumber\":4061,\"station\":\"Red2\",\"surrogate\":false},{\"teamNumber\":2910,\"station\":\"Red3\",\"surrogate\":false},{\"teamNumber\":4131,\"station\":\"Blue1\",\"surrogate\":false},{\"teamNumber\":5803,\"station\":\"Blue2\",\"surrogate\":false},{\"teamNumber\":5495,\"station\":\"Blue3\",\"surrogate\":false}]},{\"description\":\"Qualification 7 (B)\",\"field\":\"Primary\",\"tournamentLevel\":\"Qualification\",\"startTime\":\"2016-04-07T14:12:00\",\"matchNumber\":7,\"Teams\":[{\"teamNumber\":3024,\"station\":\"Red1\",\"surrogate\":false},{\"teamNumber\":2471,\"station\":\"Red2\",\"surrogate\":false},{\"teamNumber\":2980,\"station\":\"Red3\",\"surrogate\":false},{\"teamNumber\":3663,\"station\":\"Blue1\",\"surrogate\":false},{\"teamNumber\":955,\"station\":\"Blue2\",\"surrogate\":false},{\"teamNumber\":4077,\"station\":\"Blue3\",\"surrogate\":false}]},{\"description\":\"Qualification 8 (B)\",\"field\":\"Primary\",\"tournamentLevel\":\"Qualification\",\"startTime\":\"2016-04-07T14:22:00\",\"matchNumber\":8,\"Teams\":[{\"teamNumber\":4132,\"station\":\"Red1\",\"surrogate\":false},{\"teamNumber\":3826,\"station\":\"Red2\",\"surrogate\":false},{\"teamNumber\":4089,\"station\":\"Red3\",\"surrogate\":false},{\"teamNumber\":4911,\"station\":\"Blue1\",\"surrogate\":false},{\"teamNumber\":2928,\"station\":\"Blue2\",\"surrogate\":false},{\"teamNumber\":2046,\"station\":\"Blue3\",\"surrogate\":false}]},{\"description\":\"Qualification 9 (B)\",\"field\":\"Primary\",\"tournamentLevel\":\"Qualification\",\"startTime\":\"2016-04-07T14:29:00\",\"matchNumber\":9,\"Teams\":[{\"teamNumber\":360,\"station\":\"Red1\",\"surrogate\":false},{\"teamNumber\":5085,\"station\":\"Red2\",\"surrogate\":false},{\"teamNumber\":3219,\"station\":\"Red3\",\"surrogate\":false},{\"teamNumber\":5468,\"station\":\"Blue1\",\"surrogate\":false},{\"teamNumber\":5970,\"station\":\"Blue2\",\"surrogate\":false},{\"teamNumber\":3787,\"station\":\"Blue3\",\"surrogate\":false}]},{\"description\":\"Qualification 10 (B)\",\"field\":\"Primary\",\"tournamentLevel\":\"Qualification\",\"startTime\":\"2016-04-07T14:36:00\",\"matchNumber\":10,\"Teams\":[{\"teamNumber\":4205,\"station\":\"Red1\",\"surrogate\":false},{\"teamNumber\":2522,\"station\":\"Red2\",\"surrogate\":false},{\"teamNumber\":4057,\"station\":\"Red3\",\"surrogate\":false},{\"teamNumber\":5450,\"station\":\"Blue1\",\"surrogate\":false},{\"teamNumber\":3393,\"station\":\"Blue2\",\"surrogate\":false},{\"teamNumber\":1778,\"station\":\"Blue3\",\"surrogate\":false}]},{\"description\":\"Qualification 11 (C)\",\"field\":\"Primary\",\"tournamentLevel\":\"Qualification\",\"startTime\":\"2016-04-07T14:43:00\",\"matchNumber\":11,\"Teams\":[{\"teamNumber\":997,\"station\":\"Red1\",\"surrogate\":false},{\"teamNumber\":1510,\"station\":\"Red2\",\"surrogate\":false},{\"teamNumber\":4125,\"station\":\"Red3\",\"surrogate\":false},{\"teamNumber\":753,\"station\":\"Blue1\",\"surrogate\":false},{\"teamNumber\":2811,\"station\":\"Blue2\",\"surrogate\":false},{\"teamNumber\":5588,\"station\":\"Blue3\",\"surrogate\":false}]},{\"description\":\"Qualification 12 (C)\",\"field\":\"Primary\",\"tournamentLevel\":\"Qualification\",\"startTime\":\"2016-04-07T14:50:00\",\"matchNumber\":12,\"Teams\":[{\"teamNumber\":4488,\"station\":\"Red1\",\"surrogate\":false},{\"teamNumber\":5827,\"station\":\"Red2\",\"surrogate\":false},{\"teamNumber\":2930,\"station\":\"Red3\",\"surrogate\":false},{\"teamNumber\":2910,\"station\":\"Blue1\",\"surrogate\":false},{\"teamNumber\":2944,\"station\":\"Blue2\",\"surrogate\":false},{\"teamNumber\":2635,\"station\":\"Blue3\",\"surrogate\":false}]},{\"description\":\"Qualification 13 (C)\",\"field\":\"Primary\",\"tournamentLevel\":\"Qualification\",\"startTime\":\"2016-04-07T14:57:00\",\"matchNumber\":13,\"Teams\":[{\"teamNumber\":955,\"station\":\"Red1\",\"surrogate\":false},{\"teamNumber\":2046,\"station\":\"Red2\",\"surrogate\":false},{\"teamNumber\":1983,\"station\":\"Red3\",\"surrogate\":false},{\"teamNumber\":3223,\"station\":\"Blue1\",\"surrogate\":false},{\"teamNumber\":1318,\"station\":\"Blue2\",\"surrogate\":false},{\"teamNumber\":1595,\"station\":\"Blue3\",\"surrogate\":false}]},{\"description\":\"Qualification 14 (C)\",\"field\":\"Primary\",\"tournamentLevel\":\"Qualification\",\"startTime\":\"2016-04-07T15:04:00\",\"matchNumber\":14,\"Teams\":[{\"teamNumber\":5085,\"station\":\"Red1\",\"surrogate\":false},{\"teamNumber\":3574,\"station\":\"Red2\",\"surrogate\":false},{\"teamNumber\":4077,\"station\":\"Red3\",\"surrogate\":false},{\"teamNumber\":3826,\"station\":\"Blue1\",\"surrogate\":false},{\"teamNumber\":2990,\"station\":\"Blue2\",\"surrogate\":false},{\"teamNumber\":360,\"station\":\"Blue3\",\"surrogate\":false}]},{\"description\":\"Qualification 15 (C)\",\"field\":\"Primary\",\"tournamentLevel\":\"Qualification\",\"startTime\":\"2016-04-07T15:11:00\",\"matchNumber\":15,\"Teams\":[{\"teamNumber\":2149,\"station\":\"Red1\",\"surrogate\":false},{\"teamNumber\":4980,\"station\":\"Red2\",\"surrogate\":false},{\"teamNumber\":3393,\"station\":\"Red3\",\"surrogate\":false},{\"teamNumber\":4061,\"station\":\"Blue1\",\"surrogate\":false},{\"teamNumber\":2557,\"station\":\"Blue2\",\"surrogate\":false},{\"teamNumber\":5495,\"station\":\"Blue3\",\"surrogate\":false}]},{\"description\":\"Qualification 16 (C)\",\"field\":\"Primary\",\"tournamentLevel\":\"Qualification\",\"startTime\":\"2016-04-07T15:18:00\",\"matchNumber\":16,\"Teams\":[{\"teamNumber\":5450,\"station\":\"Red1\",\"surrogate\":false},{\"teamNumber\":2374,\"station\":\"Red2\",\"surrogate\":false},{\"teamNumber\":1510,\"station\":\"Red3\",\"surrogate\":false},{\"teamNumber\":4915,\"station\":\"Blue1\",\"surrogate\":false},{\"teamNumber\":5920,\"station\":\"Blue2\",\"surrogate\":false},{\"teamNumber\":2928,\"station\":\"Blue3\",\"surrogate\":false}]},{\"description\":\"Qualification 17 (C)\",\"field\":\"Primary\",\"tournamentLevel\":\"Qualification\",\"startTime\":\"2016-04-07T15:25:00\",\"matchNumber\":17,\"Teams\":[{\"teamNumber\":5803,\"station\":\"Red1\",\"surrogate\":false},{\"teamNumber\":3787,\"station\":\"Red2\",\"surrogate\":false},{\"teamNumber\":4450,\"station\":\"Red3\",\"surrogate\":false},{\"teamNumber\":3674,\"station\":\"Blue1\",\"surrogate\":false},{\"teamNumber\":3238,\"station\":\"Blue2\",\"surrogate\":false},{\"teamNumber\":3711,\"station\":\"Blue3\",\"surrogate\":false}]},{\"description\":\"Qualification 18 (C)\",\"field\":\"Primary\",\"tournamentLevel\":\"Qualification\",\"startTime\":\"2016-04-07T15:35:00\",\"matchNumber\":18,\"Teams\":[{\"teamNumber\":1540,\"station\":\"Red1\",\"surrogate\":false},{\"teamNumber\":2522,\"station\":\"Red2\",\"surrogate\":false},{\"teamNumber\":4131,\"station\":\"Red3\",\"surrogate\":false},{\"teamNumber\":997,\"station\":\"Blue1\",\"surrogate\":false},{\"teamNumber\":5942,\"station\":\"Blue2\",\"surrogate\":false},{\"teamNumber\":5468,\"station\":\"Blue3\",\"surrogate\":false}]},{\"description\":\"Qualification 19 (C)\",\"field\":\"Primary\",\"tournamentLevel\":\"Qualification\",\"startTime\":\"2016-04-07T15:42:00\",\"matchNumber\":19,\"Teams\":[{\"teamNumber\":4911,\"station\":\"Red1\",\"surrogate\":false},{\"teamNumber\":2907,\"station\":\"Red2\",\"surrogate\":false},{\"teamNumber\":3786,\"station\":\"Red3\",\"surrogate\":false},{\"teamNumber\":753,\"station\":\"Blue1\",\"surrogate\":false},{\"teamNumber\":4205,\"station\":\"Blue2\",\"surrogate\":false},{\"teamNumber\":2471,\"station\":\"Blue3\",\"surrogate\":false}]},{\"description\":\"Qualification 20 (C)\",\"field\":\"Primary\",\"tournamentLevel\":\"Qualification\",\"startTime\":\"2016-04-07T15:49:00\",\"matchNumber\":20,\"Teams\":[{\"teamNumber\":4089,\"station\":\"Red1\",\"surrogate\":false},{\"teamNumber\":3024,\"station\":\"Red2\",\"surrogate\":false},{\"teamNumber\":1425,\"station\":\"Red3\",\"surrogate\":false},{\"teamNumber\":2147,\"station\":\"Blue1\",\"surrogate\":false},{\"teamNumber\":4057,\"station\":\"Blue2\",\"surrogate\":false},{\"teamNumber\":4132,\"station\":\"Blue3\",\"surrogate\":false}]},{\"description\":\"Qualification 21 (D)\",\"field\":\"Primary\",\"tournamentLevel\":\"Qualification\",\"startTime\":\"2016-04-07T15:56:00\",\"matchNumber\":21,\"Teams\":[{\"teamNumber\":2980,\"station\":\"Red1\",\"surrogate\":false},{\"teamNumber\":1778,\"station\":\"Red2\",\"surrogate\":false},{\"teamNumber\":3663,\"station\":\"Red3\",\"surrogate\":false},{\"teamNumber\":1258,\"station\":\"Blue1\",\"surrogate\":false},{\"teamNumber\":3219,\"station\":\"Blue2\",\"surrogate\":false},{\"teamNumber\":5970,\"station\":\"Blue3\",\"surrogate\":false}]},{\"description\":\"Qualification 22 (D)\",\"field\":\"Primary\",\"tournamentLevel\":\"Qualification\",\"startTime\":\"2016-04-07T16:03:00\",\"matchNumber\":22,\"Teams\":[{\"teamNumber\":2811,\"station\":\"Red1\",\"surrogate\":false},{\"teamNumber\":5085,\"station\":\"Red2\",\"surrogate\":false},{\"teamNumber\":2944,\"station\":\"Red3\",\"surrogate\":false},{\"teamNumber\":4469,\"station\":\"Blue1\",\"surrogate\":false},{\"teamNumber\":4450,\"station\":\"Blue2\",\"surrogate\":false},{\"teamNumber\":1595,\"station\":\"Blue3\",\"surrogate\":false}]},{\"description\":\"Qualification 23 (D)\",\"field\":\"Primary\",\"tournamentLevel\":\"Qualification\",\"startTime\":\"2016-04-07T16:10:00\",\"matchNumber\":23,\"Teams\":[{\"teamNumber\":3223,\"station\":\"Red1\",\"surrogate\":false},{\"teamNumber\":5468,\"station\":\"Red2\",\"surrogate\":false},{\"teamNumber\":3393,\"station\":\"Red3\",\"surrogate\":false},{\"teamNumber\":4077,\"station\":\"Blue1\",\"surrogate\":false},{\"teamNumber\":1510,\"station\":\"Blue2\",\"surrogate\":false},{\"teamNumber\":3787,\"station\":\"Blue3\",\"surrogate\":false}]},{\"description\":\"Qualification 24 (D)\",\"field\":\"Primary\",\"tournamentLevel\":\"Qualification\",\"startTime\":\"2016-04-07T16:17:00\",\"matchNumber\":24,\"Teams\":[{\"teamNumber\":3786,\"station\":\"Red1\",\"surrogate\":false},{\"teamNumber\":360,\"station\":\"Red2\",\"surrogate\":false},{\"teamNumber\":5588,\"station\":\"Red3\",\"surrogate\":false},{\"teamNumber\":2557,\"station\":\"Blue1\",\"surrogate\":false},{\"teamNumber\":1318,\"station\":\"Blue2\",\"surrogate\":false},{\"teamNumber\":2910,\"station\":\"Blue3\",\"surrogate\":false}]},{\"description\":\"Qualification 25 (D)\",\"field\":\"Primary\",\"tournamentLevel\":\"Qualification\",\"startTime\":\"2016-04-07T16:24:00\",\"matchNumber\":25,\"Teams\":[{\"teamNumber\":4915,\"station\":\"Red1\",\"surrogate\":false},{\"teamNumber\":5495,\"station\":\"Red2\",\"surrogate\":false},{\"teamNumber\":753,\"station\":\"Red3\",\"surrogate\":false},{\"teamNumber\":2522,\"station\":\"Blue1\",\"surrogate\":false},{\"teamNumber\":3711,\"station\":\"Blue2\",\"surrogate\":false},{\"teamNumber\":1983,\"station\":\"Blue3\",\"surrogate\":false}]},{\"description\":\"Qualification 26 (D)\",\"field\":\"Primary\",\"tournamentLevel\":\"Qualification\",\"startTime\":\"2016-04-07T16:31:00\",\"matchNumber\":26,\"Teams\":[{\"teamNumber\":4132,\"station\":\"Red1\",\"surrogate\":false},{\"teamNumber\":2635,\"station\":\"Red2\",\"surrogate\":false},{\"teamNumber\":955,\"station\":\"Red3\",\"surrogate\":false},{\"teamNumber\":5803,\"station\":\"Blue1\",\"surrogate\":false},{\"teamNumber\":4089,\"station\":\"Blue2\",\"surrogate\":false},{\"teamNumber\":1258,\"station\":\"Blue3\",\"surrogate\":false}]},{\"description\":\"Qualification 27 (D)\",\"field\":\"Primary\",\"tournamentLevel\":\"Qualification\",\"startTime\":\"2016-04-07T16:38:00\",\"matchNumber\":27,\"Teams\":[{\"teamNumber\":4911,\"station\":\"Red1\",\"surrogate\":false},{\"teamNumber\":4205,\"station\":\"Red2\",\"surrogate\":false},{\"teamNumber\":3219,\"station\":\"Red3\",\"surrogate\":false},{\"teamNumber\":5827,\"station\":\"Blue1\",\"surrogate\":false},{\"teamNumber\":4057,\"station\":\"Blue2\",\"surrogate\":false},{\"teamNumber\":2811,\"station\":\"Blue3\",\"surrogate\":false}]},{\"description\":\"Qualification 28 (D)\",\"field\":\"Primary\",\"tournamentLevel\":\"Qualification\",\"startTime\":\"2016-04-07T16:48:00\",\"matchNumber\":28,\"Teams\":[{\"teamNumber\":3574,\"station\":\"Red1\",\"surrogate\":false},{\"teamNumber\":3024,\"station\":\"Red2\",\"surrogate\":false},{\"teamNumber\":2046,\"station\":\"Red3\",\"surrogate\":false},{\"teamNumber\":4061,\"station\":\"Blue1\",\"surrogate\":false},{\"teamNumber\":5970,\"station\":\"Blue2\",\"surrogate\":false},{\"teamNumber\":2930,\"station\":\"Blue3\",\"surrogate\":false}]},{\"description\":\"Qualification 29 (D)\",\"field\":\"Primary\",\"tournamentLevel\":\"Qualification\",\"startTime\":\"2016-04-07T16:55:00\",\"matchNumber\":29,\"Teams\":[{\"teamNumber\":2990,\"station\":\"Red1\",\"surrogate\":false},{\"teamNumber\":4131,\"station\":\"Red2\",\"surrogate\":false},{\"teamNumber\":3674,\"station\":\"Red3\",\"surrogate\":false},{\"teamNumbersnl = api.Session(username, key, data_format=\"dataframe\", source=\"local\")"
   ]
  },
  {
   "cell_type": "code",
   "execution_count": null,
   "metadata": {
    "collapsed": true,
    "scrolled": true
   },
   "outputs": [],
   "source": [
    "sn_bad = api.Session(username, \"bad_key\", data_format=\"json\")"
   ]
  },
  {
   "cell_type": "code",
   "execution_count": null,
   "metadata": {
    "collapsed": true
   },
   "outputs": [],
   "source": [
    "js = pd.json.loads(sched[\"text\"])[\"Schedule\"]\n",
    "js"
   ]
  },
  {
   "cell_type": "code",
   "execution_count": null,
   "metadata": {
    "collapsed": true
   },
   "outputs": [],
   "source": [
    "pj.json_normalize(js, \"Teams\", [\"matchNumber\", \"description\", \"field\", \"startTime\", \"tournamentLevel\"])"
   ]
  },
  {
   "cell_type": "code",
   "execution_count": null,
   "metadata": {
    "collapsed": true
   },
   "outputs": [],
   "source": []
  },
  {
   "cell_type": "code",
   "execution_count": null,
   "metadata": {
    "collapsed": true
   },
   "outputs": [],
   "source": []
  },
  {
   "cell_type": "code",
   "execution_count": 3,
   "metadata": {},
   "outputs": [
    {
     "data": {
      "text/plain": [
       "{'Cache-Control': 'public, max-age=300',\n",
       " 'Connection': 'close',\n",
       " 'Content-Length': '348',\n",
       " 'Content-Type': 'application/json; charset=utf-8',\n",
       " 'Date': 'Wed, 06 Sep 2017 13:14:15 GMT',\n",
       " 'Last-Modified': 'Mon, 28 Aug 2017 12:48:45 GMT',\n",
       " 'Server': 'Microsoft-HTTPAPI/2.0',\n",
       " 'code': 200,\n",
       " 'frame_type': 'season',\n",
       " 'local_data': False,\n",
       " 'local_time': None,\n",
       " 'mod_since': None,\n",
       " 'only_mod_since': None,\n",
       " 'text': '{\"eventCount\":176,\"gameName\":\"FIRST STEAMWORKS\",\"kickoff\":\"2017-01-07T14:00:00Z\",\"rookieStart\":6300,\"teamCount\":3372,\"FRCChampionships\":[{\"name\":\"FIRST Championship - Houston\",\"startDate\":\"2017-04-19T00:00:00\",\"location\":\"Houston, TX USA\"},{\"name\":\"FIRST Championship - St. Louis\",\"startDate\":\"2017-04-26T00:00:00\",\"location\":\"St. Louis, MO USA\"}]}',\n",
       " 'time_downloaded': 'Wed, 06 Sep 2017 06:14:16',\n",
       " 'url': 'https://frc-api.firstinspires.org/v2.0/2017'}"
      ]
     },
     "execution_count": 3,
     "metadata": {},
     "output_type": "execute_result"
    }
   ],
   "source": [
    "season = api.get_season(sn)\n",
    "season.attr"
   ]
  },
  {
   "cell_type": "code",
   "execution_count": null,
   "metadata": {
    "collapsed": true
   },
   "outputs": [],
   "source": [
    "districts = http.getDistricts(sn)\n",
    "districts"
   ]
  },
  {
   "cell_type": "code",
   "execution_count": null,
   "metadata": {
    "collapsed": true
   },
   "outputs": [],
   "source": [
    "districts[\"text\"]"
   ]
  },
  {
   "cell_type": "code",
   "execution_count": null,
   "metadata": {
    "collapsed": true
   },
   "outputs": [],
   "source": [
    "teams= http.getTeams(sn, district = \"PNW\")\n",
    "teams"
   ]
  },
  {
   "cell_type": "code",
   "execution_count": null,
   "metadata": {
    "collapsed": true
   },
   "outputs": [],
   "source": [
    "teams[\"teamNumber\"].iloc[0]"
   ]
  },
  {
   "cell_type": "code",
   "execution_count": null,
   "metadata": {
    "collapsed": true
   },
   "outputs": [],
   "source": [
    "events = http.getEvents(sn, district = \"PNW\")\n",
    "events"
   ]
  },
  {
   "cell_type": "code",
   "execution_count": null,
   "metadata": {
    "collapsed": true
   },
   "outputs": [],
   "source": [
    "events.attr[\"text\"]"
   ]
  },
  {
   "cell_type": "code",
   "execution_count": null,
   "metadata": {
    "collapsed": true
   },
   "outputs": [],
   "source": [
    "status = http.getStatus(sn)\n",
    "status"
   ]
  },
  {
   "cell_type": "markdown",
   "metadata": {},
   "source": [
    "## Local Data"
   ]
  },
  {
   "cell_type": "code",
   "execution_count": null,
   "metadata": {
    "collapsed": true
   },
   "outputs": [],
   "source": [
    "snl = fc.Session(auth.username, \"key\", data_format = \"json\")"
   ]
  },
  {
   "cell_type": "code",
   "execution_count": null,
   "metadata": {
    "collapsed": true
   },
   "outputs": [],
   "source": [
    "res_l = get.season(snl)\n",
    "res_l"
   ]
  },
  {
   "cell_type": "markdown",
   "metadata": {},
   "source": [
    "## Time stuff"
   ]
  },
  {
   "cell_type": "code",
   "execution_count": null,
   "metadata": {
    "collapsed": true
   },
   "outputs": [],
   "source": [
    "import time\n",
    "time.tzname"
   ]
  },
  {
   "cell_type": "markdown",
   "metadata": {},
   "source": [
    "## Other Stuff"
   ]
  },
  {
   "cell_type": "code",
   "execution_count": null,
   "metadata": {
    "collapsed": true
   },
   "outputs": [],
   "source": [
    "import re"
   ]
  },
  {
   "cell_type": "code",
   "execution_count": null,
   "metadata": {
    "collapsed": true
   },
   "outputs": [],
   "source": [
    "cmd_ptn = r\"/v2\\.0/\\d{4}/(\\w+)(?:[/?]|$)\"\n",
    "url = 'https://frc-api.firstinspires.org/v2.0/2017/teams?districtCode=PNW&page=3'\n",
    "url_season = 'https://frc-api.firstinspires.org/v2.0/2017'\n",
    "url_status = 'https://frc-api.firstinspires.org/v2.0'\n",
    "season_ptn = r\"/v2\\.0/\\d{4}$\"\n",
    "status_ptn = r\"/v2\\.0$\""
   ]
  },
  {
   "cell_type": "code",
   "execution_count": null,
   "metadata": {
    "collapsed": true
   },
   "outputs": [],
   "source": [
    "mtch = re.search(status_ptn, url_season)"
   ]
  },
  {
   "cell_type": "code",
   "execution_count": null,
   "metadata": {
    "collapsed": true
   },
   "outputs": [],
   "source": [
    "mtch.group()"
   ]
  },
  {
   "cell_type": "code",
   "execution_count": null,
   "metadata": {
    "collapsed": true
   },
   "outputs": [],
   "source": [
    "status.attr[\"url\"]"
   ]
  },
  {
   "cell_type": "code",
   "execution_count": null,
   "metadata": {
    "collapsed": true
   },
   "outputs": [],
   "source": [
    "fi._get_local_data(sn, url)"
   ]
  },
  {
   "cell_type": "code",
   "execution_count": null,
   "metadata": {
    "collapsed": true
   },
   "outputs": [],
   "source": []
  }
 ],
 "metadata": {
  "kernelspec": {
   "display_name": "Python 3",
   "language": "python",
   "name": "python3"
  },
  "language_info": {
   "codemirror_mode": {
    "name": "ipython",
    "version": 3
   },
   "file_extension": ".py",
   "mimetype": "text/x-python",
   "name": "python",
   "nbconvert_exporter": "python",
   "pygments_lexer": "ipython3",
   "version": "3.6.2"
  }
 },
 "nbformat": 4,
 "nbformat_minor": 1
}
